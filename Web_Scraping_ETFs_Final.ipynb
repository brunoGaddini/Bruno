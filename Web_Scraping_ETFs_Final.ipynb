{
 "cells": [
  {
   "cell_type": "markdown",
   "source": [
    "<font color = \"orange\"> **Web Scraping com Python** Obtendo ETfs do mundo inteiro\n",
    "><font color = \"orange\"> Desafio:\n",
    "><font color = \"orange\"> Construir um código que vá ao site etf.com e busque dados de todos os etfs do mercado. Rentabilidade, patrimônio, gestora, taxa, etc.\n",
    "\n",
    "<font color = \"orange\"> **Passo a passo:**\n",
    "><font color = \"orange\"> Passo 1: Definir o navegador que vou utilizar com o Python\n",
    "><font color = \"orange\"> Passo 2: Importar módulos e bibliotecas\n",
    "><font color = \"orange\"> Passo 3: Entender como funcionam as requisições na internet\n",
    "><font color = \"orange\"> Passo 4: Conhecer e mapear o processo de coleta de dados no site ETF.com\n",
    "><font color = \"orange\"> Passo 5: Achar todos os elementos necessários dentro do HTML do site\n",
    "><font color = \"orange\"> Passo 6: Construir a tabela final"
   ],
   "metadata": {
    "collapsed": false
   }
  },
  {
   "cell_type": "code",
   "execution_count": 1,
   "outputs": [],
   "source": [
    "#!pip install webdriver-manager"
   ],
   "metadata": {
    "collapsed": false
   }
  },
  {
   "cell_type": "code",
   "execution_count": 2,
   "outputs": [],
   "source": [
    "#!pip install selenium"
   ],
   "metadata": {
    "collapsed": false
   }
  },
  {
   "cell_type": "code",
   "execution_count": 3,
   "outputs": [],
   "source": [
    "#!pip install html5lib"
   ],
   "metadata": {
    "collapsed": false
   }
  },
  {
   "cell_type": "markdown",
   "source": [
    "><font color = \"orange\"> **Passo 1: Definir o navegador que vou utilizar com o Python**"
   ],
   "metadata": {
    "collapsed": false
   }
  },
  {
   "cell_type": "markdown",
   "source": [
    "><font color = \"orange\"> **Passo 2: Importar módulos e bibliotecas**"
   ],
   "metadata": {
    "collapsed": false
   }
  },
  {
   "cell_type": "code",
   "execution_count": 4,
   "outputs": [],
   "source": [
    "from selenium import webdriver\n",
    "from selenium.webdriver.chrome.service import Service\n",
    "from webdriver_manager.chrome import ChromeDriverManager\n",
    "\n",
    "import time\n",
    "import pandas as pd"
   ],
   "metadata": {
    "collapsed": false
   }
  },
  {
   "cell_type": "markdown",
   "source": [
    "><font color = \"orange\"> **Passo 3: Entender como funcionam as requisições na internet**"
   ],
   "metadata": {
    "collapsed": false
   }
  },
  {
   "cell_type": "code",
   "execution_count": 5,
   "outputs": [
    {
     "name": "stderr",
     "output_type": "stream",
     "text": [
      "[WDM] - Downloading: 100%|██████████| 6.79M/6.79M [00:00<00:00, 7.30MB/s]\n"
     ]
    }
   ],
   "source": [
    "driver = webdriver.Chrome(service = Service(ChromeDriverManager().install())) # Software de teste automatizado\n",
    "\n",
    "url = \"https://www.etf.com/etfanalytics/etf-finder\"\n",
    "\n",
    "driver.get(url)"
   ],
   "metadata": {
    "collapsed": false
   }
  },
  {
   "cell_type": "markdown",
   "source": [
    "><font color = \"orange\"> **Passo 4: Conhecer e mapear o processo de coleta de dados no site ETF.com**"
   ],
   "metadata": {
    "collapsed": false
   }
  },
  {
   "cell_type": "markdown",
   "source": [
    "<font color = \"orange\"> **Processo de dados**\n",
    "><font color = \"orange\"> 1 - Abrir o site\n",
    "><font color = \"orange\"> 2 - Mudar a visualização (display) para 100\n",
    "><font color = \"orange\"> 3 - Ler a tabela\n",
    "><font color = \"orange\"> 4 - Avançar todas as páginas\n",
    "><font color = \"orange\"> 5 - Trocar de categoria\n",
    "><font color = \"orange\"> 6 - ler todas as tabelas da nova categoria"
   ],
   "metadata": {
    "collapsed": false
   }
  },
  {
   "cell_type": "markdown",
   "source": [
    "><font color = \"orange\"> **Passo 5: Achar todos os elementos necessários dentro do HTML do site**"
   ],
   "metadata": {
    "collapsed": false
   }
  },
  {
   "cell_type": "markdown",
   "source": [
    "><font color = \"orange\"> **Passo 5.1 - Expandindo a tabela para display 100**"
   ],
   "metadata": {
    "collapsed": false
   }
  },
  {
   "cell_type": "code",
   "execution_count": 6,
   "outputs": [],
   "source": [
    "time.sleep(15)\n",
    "#driver.implicitly_wait\n",
    "\n",
    "# Achando o caminho xpath do botão display 100\n",
    "botao_100 = driver.find_element(\"xpath\", '''/html/body/div[5]/section/div/div[3]/section/div/div/div/div/div[2]/section[2]/div[2]/section[2]/div[1]/div/div[4]/button/label/span''').click()\n",
    "\n",
    "#.click()\n",
    "\n",
    "# Clicando no botão\n",
    "#driver.execute(\"arguments[0].click();\", botao_100)"
   ],
   "metadata": {
    "collapsed": false
   }
  },
  {
   "cell_type": "markdown",
   "source": [
    "><font color = \"orange\"> **Passo 5.2: Achar todos os elementos necessários dentro do HTML do site - Pegando o número de páginas**\n",
    "\n",
    "\n"
   ],
   "metadata": {
    "collapsed": false
   }
  },
  {
   "cell_type": "code",
   "execution_count": 7,
   "outputs": [
    {
     "name": "stdout",
     "output_type": "stream",
     "text": [
      "32\n"
     ]
    }
   ],
   "source": [
    "numero_de_paginas = driver.find_element(\"xpath\", '''/html/body/div[5]/section/div/div[3]/section/div/div/div/div/div[2]/section[2]/div[2]/section[2]/div[2]/div/label[2]''')\n",
    "\n",
    "numero_de_paginas = numero_de_paginas.text.replace(\"of \", \"\")\n",
    "\n",
    "numero_de_paginas = int(numero_de_paginas)\n",
    "\n",
    "print(numero_de_paginas)"
   ],
   "metadata": {
    "collapsed": false
   }
  },
  {
   "cell_type": "markdown",
   "source": [
    "><font color = \"orange\"> **Passo 6.1: Lendo a tabela de dados básicos.**"
   ],
   "metadata": {
    "collapsed": false
   }
  },
  {
   "cell_type": "code",
   "execution_count": 8,
   "outputs": [],
   "source": [
    "# Para leitura segui com o bloco de código abaixo\n",
    "\n",
    "# tabela = driver.find_element(\"xpath\", '''/html/body/div[5]/section/div/div[3]/section/div/div/div/div/div[2]/section[2]/div[2]/div/table''')\n",
    "#\n",
    "# html_tabela = tabela.get_attribute(\"outerHTML\")\n",
    "#\n",
    "# #print(html_tabela)\n",
    "#\n",
    "# tabela_final = pd.read_html(html_tabela)[0] # [0] Para trazer a tabela finally\n",
    "# display(tabela_final)"
   ],
   "metadata": {
    "collapsed": false
   }
  },
  {
   "cell_type": "code",
   "execution_count": 9,
   "outputs": [
    {
     "data": {
      "text/plain": "   Ticker                                               Name  \\\n0     SPY                             SPDR S&P 500 ETF Trust   \n1     IVV                           iShares Core S&P 500 ETF   \n2     VTI                    Vanguard Total Stock Market ETF   \n3     VOO                               Vanguard S&P 500 ETF   \n4     QQQ                                  Invesco QQQ Trust   \n..    ...                                                ...   \n8    CAMX                       Cambiar Aggressive Value ETF   \n9    CVLC    Calvert US Large-Cap Core Responsible Index ETF   \n10   CVMC      Calvert US Mid-Cap Core Responsible Index ETF   \n11   CVIE        Calvert International Responsible Index ETF   \n12   CDEI  Calvert US Large-Cap Diversity, Equity and Inc...   \n\n                                          Segment  \\\n0                        Equity: U.S. - Large Cap   \n1                        Equity: U.S. - Large Cap   \n2                     Equity: U.S. - Total Market   \n3                        Equity: U.S. - Large Cap   \n4                        Equity: U.S. - Large Cap   \n..                                            ...   \n8                   Equity: Global - Total Market   \n9                        Equity: U.S. - Large Cap   \n10                         Equity: U.S. - Mid Cap   \n11  Equity: Developed Markets Ex-U.S. - Large Cap   \n12                       Equity: U.S. - Large Cap   \n\n                          Issuer Expense Ratio       AUM  \n0   State Street Global Advisors         0.09%  $376.42B  \n1                      Blackrock         0.03%  $307.48B  \n2                       Vanguard         0.03%  $281.55B  \n3                       Vanguard         0.03%  $279.95B  \n4                        Invesco         0.20%  $161.33B  \n..                           ...           ...       ...  \n8                            NaN            --        --  \n9                 Morgan Stanley            --        --  \n10                Morgan Stanley         0.15%        --  \n11                Morgan Stanley            --        --  \n12                Morgan Stanley            --        --  \n\n[3113 rows x 6 columns]",
      "text/html": "<div>\n<style scoped>\n    .dataframe tbody tr th:only-of-type {\n        vertical-align: middle;\n    }\n\n    .dataframe tbody tr th {\n        vertical-align: top;\n    }\n\n    .dataframe thead th {\n        text-align: right;\n    }\n</style>\n<table border=\"1\" class=\"dataframe\">\n  <thead>\n    <tr style=\"text-align: right;\">\n      <th></th>\n      <th>Ticker</th>\n      <th>Name</th>\n      <th>Segment</th>\n      <th>Issuer</th>\n      <th>Expense Ratio</th>\n      <th>AUM</th>\n    </tr>\n  </thead>\n  <tbody>\n    <tr>\n      <th>0</th>\n      <td>SPY</td>\n      <td>SPDR S&amp;P 500 ETF Trust</td>\n      <td>Equity: U.S. - Large Cap</td>\n      <td>State Street Global Advisors</td>\n      <td>0.09%</td>\n      <td>$376.42B</td>\n    </tr>\n    <tr>\n      <th>1</th>\n      <td>IVV</td>\n      <td>iShares Core S&amp;P 500 ETF</td>\n      <td>Equity: U.S. - Large Cap</td>\n      <td>Blackrock</td>\n      <td>0.03%</td>\n      <td>$307.48B</td>\n    </tr>\n    <tr>\n      <th>2</th>\n      <td>VTI</td>\n      <td>Vanguard Total Stock Market ETF</td>\n      <td>Equity: U.S. - Total Market</td>\n      <td>Vanguard</td>\n      <td>0.03%</td>\n      <td>$281.55B</td>\n    </tr>\n    <tr>\n      <th>3</th>\n      <td>VOO</td>\n      <td>Vanguard S&amp;P 500 ETF</td>\n      <td>Equity: U.S. - Large Cap</td>\n      <td>Vanguard</td>\n      <td>0.03%</td>\n      <td>$279.95B</td>\n    </tr>\n    <tr>\n      <th>4</th>\n      <td>QQQ</td>\n      <td>Invesco QQQ Trust</td>\n      <td>Equity: U.S. - Large Cap</td>\n      <td>Invesco</td>\n      <td>0.20%</td>\n      <td>$161.33B</td>\n    </tr>\n    <tr>\n      <th>...</th>\n      <td>...</td>\n      <td>...</td>\n      <td>...</td>\n      <td>...</td>\n      <td>...</td>\n      <td>...</td>\n    </tr>\n    <tr>\n      <th>8</th>\n      <td>CAMX</td>\n      <td>Cambiar Aggressive Value ETF</td>\n      <td>Equity: Global - Total Market</td>\n      <td>NaN</td>\n      <td>--</td>\n      <td>--</td>\n    </tr>\n    <tr>\n      <th>9</th>\n      <td>CVLC</td>\n      <td>Calvert US Large-Cap Core Responsible Index ETF</td>\n      <td>Equity: U.S. - Large Cap</td>\n      <td>Morgan Stanley</td>\n      <td>--</td>\n      <td>--</td>\n    </tr>\n    <tr>\n      <th>10</th>\n      <td>CVMC</td>\n      <td>Calvert US Mid-Cap Core Responsible Index ETF</td>\n      <td>Equity: U.S. - Mid Cap</td>\n      <td>Morgan Stanley</td>\n      <td>0.15%</td>\n      <td>--</td>\n    </tr>\n    <tr>\n      <th>11</th>\n      <td>CVIE</td>\n      <td>Calvert International Responsible Index ETF</td>\n      <td>Equity: Developed Markets Ex-U.S. - Large Cap</td>\n      <td>Morgan Stanley</td>\n      <td>--</td>\n      <td>--</td>\n    </tr>\n    <tr>\n      <th>12</th>\n      <td>CDEI</td>\n      <td>Calvert US Large-Cap Diversity, Equity and Inc...</td>\n      <td>Equity: U.S. - Large Cap</td>\n      <td>Morgan Stanley</td>\n      <td>--</td>\n      <td>--</td>\n    </tr>\n  </tbody>\n</table>\n<p>3113 rows × 6 columns</p>\n</div>"
     },
     "metadata": {},
     "output_type": "display_data"
    }
   ],
   "source": [
    "# Loop de repetição para ler a tabela de todas as páginas\n",
    "\n",
    "lista_de_tabelas_html_por_pagina = []\n",
    "\n",
    "for pagina in range(0, numero_de_paginas):\n",
    "    tabela = driver.find_element(\"xpath\", '''/html/body/div[5]/section/div/div[3]/section/div/div/div/div/div[2]/section[2]/div[2]/div/table''')\n",
    "\n",
    "    html_tabela = tabela.get_attribute(\"outerHTML\")\n",
    "\n",
    "    tabela_final = pd.read_html(html_tabela)[0] # [0] Para trazer a tabela final\n",
    "\n",
    "    lista_de_tabelas_html_por_pagina.append(tabela_final) # Salvando as tabelas lidas em uma lista\n",
    "\n",
    "    botao_avancar_pagina = driver.find_element(\"xpath\", '''/html/body/div[5]/section/div/div[3]/section/div/div/div/div/div[2]/section[2]/div[2]/section[2]/div[2]/div/span[2]''')#.click()\n",
    "\n",
    "    driver.execute_script(\"arguments[0].click();\", botao_avancar_pagina)\n",
    "\n",
    "base_de_dados_completa = pd.concat(lista_de_tabelas_html_por_pagina) # Transformando a lista de tabelas em uma única lista\n",
    "\n",
    "display(base_de_dados_completa)"
   ],
   "metadata": {
    "collapsed": false
   }
  },
  {
   "cell_type": "markdown",
   "source": [
    "><font color = \"orange\"> **Passo 6.1: Lendo a tabela de dados de rentabilidade (Performance).**"
   ],
   "metadata": {
    "collapsed": false
   }
  },
  {
   "cell_type": "code",
   "execution_count": 10,
   "outputs": [],
   "source": [
    "# Abrindo a aba Performance\n",
    "botao_aba_performance = driver.find_element(\"xpath\", '''/html/body/div[5]/section/div/div[3]/section/div/div/div/div/div[2]/section[2]/div[2]/ul/li[2]/span''').click()\n",
    "\n",
    "time.sleep(5)\n"
   ],
   "metadata": {
    "collapsed": false
   }
  },
  {
   "cell_type": "code",
   "execution_count": 11,
   "outputs": [],
   "source": [
    "# Voltar para a primeira página\n",
    "\n",
    "for pagina in range(0, numero_de_paginas):\n",
    "\n",
    "    botao_voltar_pagina = driver.find_element(\"xpath\", '''/html/body/div[5]/section/div/div[3]/section/div/div/div/div/div[2]/section[2]/div[2]/section[2]/div[2]/div/span[1]''')#.click()\n",
    "\n",
    "    driver.execute_script(\"arguments[0].click();\", botao_voltar_pagina)"
   ],
   "metadata": {
    "collapsed": false
   }
  },
  {
   "cell_type": "code",
   "execution_count": 12,
   "outputs": [
    {
     "data": {
      "text/plain": "   Ticker                                               Name 1 Month 3 Month  \\\n0     SPY                             SPDR S&P 500 ETF Trust   4.47%   3.86%   \n1     IVV                           iShares Core S&P 500 ETF   4.49%   3.88%   \n2     VTI                    Vanguard Total Stock Market ETF   4.78%   3.97%   \n3     VOO                               Vanguard S&P 500 ETF   4.50%   3.89%   \n4     QQQ                                  Invesco QQQ Trust   9.85%   6.25%   \n..    ...                                                ...     ...     ...   \n8    CAMX                       Cambiar Aggressive Value ETF      --      --   \n9    CVLC    Calvert US Large-Cap Core Responsible Index ETF      --      --   \n10   CVMC      Calvert US Mid-Cap Core Responsible Index ETF      --      --   \n11   CVIE        Calvert International Responsible Index ETF      --      --   \n12   CDEI  Calvert US Large-Cap Diversity, Equity and Inc...      --      --   \n\n       YTD   1 Year 3 Years 5 Years 10 Years As Of Date  \n0    6.70%   -7.71%   8.54%  11.19%   12.47%   02/10/23  \n1    6.70%   -7.72%   8.55%  11.21%   12.52%   02/10/23  \n2    7.23%   -8.34%   8.09%  10.69%   12.09%   02/10/23  \n3    6.74%   -7.73%   8.54%  11.22%   12.52%   02/10/23  \n4   12.55%  -15.77%   9.59%  14.74%   17.07%   02/10/23  \n..     ...      ...     ...     ...      ...        ...  \n8       --       --      --      --       --   02/10/23  \n9       --       --      --      --       --   02/10/23  \n10      --       --      --      --       --   02/10/23  \n11      --       --      --      --       --   02/10/23  \n12      --       --      --      --       --   02/10/23  \n\n[3113 rows x 10 columns]",
      "text/html": "<div>\n<style scoped>\n    .dataframe tbody tr th:only-of-type {\n        vertical-align: middle;\n    }\n\n    .dataframe tbody tr th {\n        vertical-align: top;\n    }\n\n    .dataframe thead th {\n        text-align: right;\n    }\n</style>\n<table border=\"1\" class=\"dataframe\">\n  <thead>\n    <tr style=\"text-align: right;\">\n      <th></th>\n      <th>Ticker</th>\n      <th>Name</th>\n      <th>1 Month</th>\n      <th>3 Month</th>\n      <th>YTD</th>\n      <th>1 Year</th>\n      <th>3 Years</th>\n      <th>5 Years</th>\n      <th>10 Years</th>\n      <th>As Of Date</th>\n    </tr>\n  </thead>\n  <tbody>\n    <tr>\n      <th>0</th>\n      <td>SPY</td>\n      <td>SPDR S&amp;P 500 ETF Trust</td>\n      <td>4.47%</td>\n      <td>3.86%</td>\n      <td>6.70%</td>\n      <td>-7.71%</td>\n      <td>8.54%</td>\n      <td>11.19%</td>\n      <td>12.47%</td>\n      <td>02/10/23</td>\n    </tr>\n    <tr>\n      <th>1</th>\n      <td>IVV</td>\n      <td>iShares Core S&amp;P 500 ETF</td>\n      <td>4.49%</td>\n      <td>3.88%</td>\n      <td>6.70%</td>\n      <td>-7.72%</td>\n      <td>8.55%</td>\n      <td>11.21%</td>\n      <td>12.52%</td>\n      <td>02/10/23</td>\n    </tr>\n    <tr>\n      <th>2</th>\n      <td>VTI</td>\n      <td>Vanguard Total Stock Market ETF</td>\n      <td>4.78%</td>\n      <td>3.97%</td>\n      <td>7.23%</td>\n      <td>-8.34%</td>\n      <td>8.09%</td>\n      <td>10.69%</td>\n      <td>12.09%</td>\n      <td>02/10/23</td>\n    </tr>\n    <tr>\n      <th>3</th>\n      <td>VOO</td>\n      <td>Vanguard S&amp;P 500 ETF</td>\n      <td>4.50%</td>\n      <td>3.89%</td>\n      <td>6.74%</td>\n      <td>-7.73%</td>\n      <td>8.54%</td>\n      <td>11.22%</td>\n      <td>12.52%</td>\n      <td>02/10/23</td>\n    </tr>\n    <tr>\n      <th>4</th>\n      <td>QQQ</td>\n      <td>Invesco QQQ Trust</td>\n      <td>9.85%</td>\n      <td>6.25%</td>\n      <td>12.55%</td>\n      <td>-15.77%</td>\n      <td>9.59%</td>\n      <td>14.74%</td>\n      <td>17.07%</td>\n      <td>02/10/23</td>\n    </tr>\n    <tr>\n      <th>...</th>\n      <td>...</td>\n      <td>...</td>\n      <td>...</td>\n      <td>...</td>\n      <td>...</td>\n      <td>...</td>\n      <td>...</td>\n      <td>...</td>\n      <td>...</td>\n      <td>...</td>\n    </tr>\n    <tr>\n      <th>8</th>\n      <td>CAMX</td>\n      <td>Cambiar Aggressive Value ETF</td>\n      <td>--</td>\n      <td>--</td>\n      <td>--</td>\n      <td>--</td>\n      <td>--</td>\n      <td>--</td>\n      <td>--</td>\n      <td>02/10/23</td>\n    </tr>\n    <tr>\n      <th>9</th>\n      <td>CVLC</td>\n      <td>Calvert US Large-Cap Core Responsible Index ETF</td>\n      <td>--</td>\n      <td>--</td>\n      <td>--</td>\n      <td>--</td>\n      <td>--</td>\n      <td>--</td>\n      <td>--</td>\n      <td>02/10/23</td>\n    </tr>\n    <tr>\n      <th>10</th>\n      <td>CVMC</td>\n      <td>Calvert US Mid-Cap Core Responsible Index ETF</td>\n      <td>--</td>\n      <td>--</td>\n      <td>--</td>\n      <td>--</td>\n      <td>--</td>\n      <td>--</td>\n      <td>--</td>\n      <td>02/10/23</td>\n    </tr>\n    <tr>\n      <th>11</th>\n      <td>CVIE</td>\n      <td>Calvert International Responsible Index ETF</td>\n      <td>--</td>\n      <td>--</td>\n      <td>--</td>\n      <td>--</td>\n      <td>--</td>\n      <td>--</td>\n      <td>--</td>\n      <td>02/10/23</td>\n    </tr>\n    <tr>\n      <th>12</th>\n      <td>CDEI</td>\n      <td>Calvert US Large-Cap Diversity, Equity and Inc...</td>\n      <td>--</td>\n      <td>--</td>\n      <td>--</td>\n      <td>--</td>\n      <td>--</td>\n      <td>--</td>\n      <td>--</td>\n      <td>02/10/23</td>\n    </tr>\n  </tbody>\n</table>\n<p>3113 rows × 10 columns</p>\n</div>"
     },
     "metadata": {},
     "output_type": "display_data"
    }
   ],
   "source": [
    "# Loop de repetição para ler a tabela de todas as páginas da aba performance\n",
    "\n",
    "lista_de_tabelas_html_por_pagina = []\n",
    "\n",
    "for pagina in range(0, numero_de_paginas):\n",
    "    tabela = driver.find_element(\"xpath\", '''/html/body/div[5]/section/div/div[3]/section/div/div/div/div/div[2]/section[2]/div[2]/div/table''')\n",
    "\n",
    "    html_tabela = tabela.get_attribute(\"outerHTML\")\n",
    "\n",
    "    tabela_final = pd.read_html(html_tabela)[0] # [0] Para trazer a tabela final\n",
    "\n",
    "    lista_de_tabelas_html_por_pagina.append(tabela_final) # Salvando as tabelas lidas em uma lista\n",
    "\n",
    "    botao_avancar_pagina = driver.find_element(\"xpath\", '''/html/body/div[5]/section/div/div[3]/section/div/div/div/div/div[2]/section[2]/div[2]/section[2]/div[2]/div/span[2]''')#.click()\n",
    "\n",
    "    driver.execute_script(\"arguments[0].click();\", botao_avancar_pagina)\n",
    "\n",
    "base_de_dados_performance = pd.concat(lista_de_tabelas_html_por_pagina) # Transformando a lista de tabelas em uma única lista\n",
    "\n",
    "display(base_de_dados_performance)"
   ],
   "metadata": {
    "collapsed": false
   }
  },
  {
   "cell_type": "code",
   "execution_count": 13,
   "outputs": [],
   "source": [
    "driver.quit()"
   ],
   "metadata": {
    "collapsed": false
   }
  },
  {
   "cell_type": "markdown",
   "source": [
    "<font color = \"Orange\"> **Passo 6.2: Construindo a tabela final**\n",
    "><font color = \"Orange\"> **Unindo as tabelas**"
   ],
   "metadata": {
    "collapsed": false
   }
  },
  {
   "cell_type": "code",
   "execution_count": 14,
   "outputs": [
    {
     "data": {
      "text/plain": "                                                     Name  \\\nTicker                                                      \nSPY                                SPDR S&P 500 ETF Trust   \nIVV                              iShares Core S&P 500 ETF   \nVTI                       Vanguard Total Stock Market ETF   \nVOO                                  Vanguard S&P 500 ETF   \nQQQ                                     Invesco QQQ Trust   \n...                                                   ...   \nCAMX                         Cambiar Aggressive Value ETF   \nCVLC      Calvert US Large-Cap Core Responsible Index ETF   \nCVMC        Calvert US Mid-Cap Core Responsible Index ETF   \nCVIE          Calvert International Responsible Index ETF   \nCDEI    Calvert US Large-Cap Diversity, Equity and Inc...   \n\n                                              Segment  \\\nTicker                                                  \nSPY                          Equity: U.S. - Large Cap   \nIVV                          Equity: U.S. - Large Cap   \nVTI                       Equity: U.S. - Total Market   \nVOO                          Equity: U.S. - Large Cap   \nQQQ                          Equity: U.S. - Large Cap   \n...                                               ...   \nCAMX                    Equity: Global - Total Market   \nCVLC                         Equity: U.S. - Large Cap   \nCVMC                           Equity: U.S. - Mid Cap   \nCVIE    Equity: Developed Markets Ex-U.S. - Large Cap   \nCDEI                         Equity: U.S. - Large Cap   \n\n                              Issuer Expense Ratio       AUM  \nTicker                                                        \nSPY     State Street Global Advisors         0.09%  $376.42B  \nIVV                        Blackrock         0.03%  $307.48B  \nVTI                         Vanguard         0.03%  $281.55B  \nVOO                         Vanguard         0.03%  $279.95B  \nQQQ                          Invesco         0.20%  $161.33B  \n...                              ...           ...       ...  \nCAMX                             NaN            --        --  \nCVLC                  Morgan Stanley            --        --  \nCVMC                  Morgan Stanley         0.15%        --  \nCVIE                  Morgan Stanley            --        --  \nCDEI                  Morgan Stanley            --        --  \n\n[3113 rows x 5 columns]",
      "text/html": "<div>\n<style scoped>\n    .dataframe tbody tr th:only-of-type {\n        vertical-align: middle;\n    }\n\n    .dataframe tbody tr th {\n        vertical-align: top;\n    }\n\n    .dataframe thead th {\n        text-align: right;\n    }\n</style>\n<table border=\"1\" class=\"dataframe\">\n  <thead>\n    <tr style=\"text-align: right;\">\n      <th></th>\n      <th>Name</th>\n      <th>Segment</th>\n      <th>Issuer</th>\n      <th>Expense Ratio</th>\n      <th>AUM</th>\n    </tr>\n    <tr>\n      <th>Ticker</th>\n      <th></th>\n      <th></th>\n      <th></th>\n      <th></th>\n      <th></th>\n    </tr>\n  </thead>\n  <tbody>\n    <tr>\n      <th>SPY</th>\n      <td>SPDR S&amp;P 500 ETF Trust</td>\n      <td>Equity: U.S. - Large Cap</td>\n      <td>State Street Global Advisors</td>\n      <td>0.09%</td>\n      <td>$376.42B</td>\n    </tr>\n    <tr>\n      <th>IVV</th>\n      <td>iShares Core S&amp;P 500 ETF</td>\n      <td>Equity: U.S. - Large Cap</td>\n      <td>Blackrock</td>\n      <td>0.03%</td>\n      <td>$307.48B</td>\n    </tr>\n    <tr>\n      <th>VTI</th>\n      <td>Vanguard Total Stock Market ETF</td>\n      <td>Equity: U.S. - Total Market</td>\n      <td>Vanguard</td>\n      <td>0.03%</td>\n      <td>$281.55B</td>\n    </tr>\n    <tr>\n      <th>VOO</th>\n      <td>Vanguard S&amp;P 500 ETF</td>\n      <td>Equity: U.S. - Large Cap</td>\n      <td>Vanguard</td>\n      <td>0.03%</td>\n      <td>$279.95B</td>\n    </tr>\n    <tr>\n      <th>QQQ</th>\n      <td>Invesco QQQ Trust</td>\n      <td>Equity: U.S. - Large Cap</td>\n      <td>Invesco</td>\n      <td>0.20%</td>\n      <td>$161.33B</td>\n    </tr>\n    <tr>\n      <th>...</th>\n      <td>...</td>\n      <td>...</td>\n      <td>...</td>\n      <td>...</td>\n      <td>...</td>\n    </tr>\n    <tr>\n      <th>CAMX</th>\n      <td>Cambiar Aggressive Value ETF</td>\n      <td>Equity: Global - Total Market</td>\n      <td>NaN</td>\n      <td>--</td>\n      <td>--</td>\n    </tr>\n    <tr>\n      <th>CVLC</th>\n      <td>Calvert US Large-Cap Core Responsible Index ETF</td>\n      <td>Equity: U.S. - Large Cap</td>\n      <td>Morgan Stanley</td>\n      <td>--</td>\n      <td>--</td>\n    </tr>\n    <tr>\n      <th>CVMC</th>\n      <td>Calvert US Mid-Cap Core Responsible Index ETF</td>\n      <td>Equity: U.S. - Mid Cap</td>\n      <td>Morgan Stanley</td>\n      <td>0.15%</td>\n      <td>--</td>\n    </tr>\n    <tr>\n      <th>CVIE</th>\n      <td>Calvert International Responsible Index ETF</td>\n      <td>Equity: Developed Markets Ex-U.S. - Large Cap</td>\n      <td>Morgan Stanley</td>\n      <td>--</td>\n      <td>--</td>\n    </tr>\n    <tr>\n      <th>CDEI</th>\n      <td>Calvert US Large-Cap Diversity, Equity and Inc...</td>\n      <td>Equity: U.S. - Large Cap</td>\n      <td>Morgan Stanley</td>\n      <td>--</td>\n      <td>--</td>\n    </tr>\n  </tbody>\n</table>\n<p>3113 rows × 5 columns</p>\n</div>"
     },
     "metadata": {},
     "output_type": "display_data"
    }
   ],
   "source": [
    "# Definir o índice (Neste caso será o Ticker)\n",
    "base_de_dados_completa = base_de_dados_completa.set_index(\"Ticker\")\n",
    "display(base_de_dados_completa)"
   ],
   "metadata": {
    "collapsed": false
   }
  },
  {
   "cell_type": "code",
   "execution_count": 15,
   "outputs": [
    {
     "data": {
      "text/plain": "                                                     Name 1 Month 3 Month  \\\nTicker                                                                      \nSPY                                SPDR S&P 500 ETF Trust   4.47%   3.86%   \nIVV                              iShares Core S&P 500 ETF   4.49%   3.88%   \nVTI                       Vanguard Total Stock Market ETF   4.78%   3.97%   \nVOO                                  Vanguard S&P 500 ETF   4.50%   3.89%   \nQQQ                                     Invesco QQQ Trust   9.85%   6.25%   \n...                                                   ...     ...     ...   \nCAMX                         Cambiar Aggressive Value ETF      --      --   \nCVLC      Calvert US Large-Cap Core Responsible Index ETF      --      --   \nCVMC        Calvert US Mid-Cap Core Responsible Index ETF      --      --   \nCVIE          Calvert International Responsible Index ETF      --      --   \nCDEI    Calvert US Large-Cap Diversity, Equity and Inc...      --      --   \n\n           YTD   1 Year 3 Years 5 Years 10 Years As Of Date  \nTicker                                                       \nSPY      6.70%   -7.71%   8.54%  11.19%   12.47%   02/10/23  \nIVV      6.70%   -7.72%   8.55%  11.21%   12.52%   02/10/23  \nVTI      7.23%   -8.34%   8.09%  10.69%   12.09%   02/10/23  \nVOO      6.74%   -7.73%   8.54%  11.22%   12.52%   02/10/23  \nQQQ     12.55%  -15.77%   9.59%  14.74%   17.07%   02/10/23  \n...        ...      ...     ...     ...      ...        ...  \nCAMX        --       --      --      --       --   02/10/23  \nCVLC        --       --      --      --       --   02/10/23  \nCVMC        --       --      --      --       --   02/10/23  \nCVIE        --       --      --      --       --   02/10/23  \nCDEI        --       --      --      --       --   02/10/23  \n\n[3113 rows x 9 columns]",
      "text/html": "<div>\n<style scoped>\n    .dataframe tbody tr th:only-of-type {\n        vertical-align: middle;\n    }\n\n    .dataframe tbody tr th {\n        vertical-align: top;\n    }\n\n    .dataframe thead th {\n        text-align: right;\n    }\n</style>\n<table border=\"1\" class=\"dataframe\">\n  <thead>\n    <tr style=\"text-align: right;\">\n      <th></th>\n      <th>Name</th>\n      <th>1 Month</th>\n      <th>3 Month</th>\n      <th>YTD</th>\n      <th>1 Year</th>\n      <th>3 Years</th>\n      <th>5 Years</th>\n      <th>10 Years</th>\n      <th>As Of Date</th>\n    </tr>\n    <tr>\n      <th>Ticker</th>\n      <th></th>\n      <th></th>\n      <th></th>\n      <th></th>\n      <th></th>\n      <th></th>\n      <th></th>\n      <th></th>\n      <th></th>\n    </tr>\n  </thead>\n  <tbody>\n    <tr>\n      <th>SPY</th>\n      <td>SPDR S&amp;P 500 ETF Trust</td>\n      <td>4.47%</td>\n      <td>3.86%</td>\n      <td>6.70%</td>\n      <td>-7.71%</td>\n      <td>8.54%</td>\n      <td>11.19%</td>\n      <td>12.47%</td>\n      <td>02/10/23</td>\n    </tr>\n    <tr>\n      <th>IVV</th>\n      <td>iShares Core S&amp;P 500 ETF</td>\n      <td>4.49%</td>\n      <td>3.88%</td>\n      <td>6.70%</td>\n      <td>-7.72%</td>\n      <td>8.55%</td>\n      <td>11.21%</td>\n      <td>12.52%</td>\n      <td>02/10/23</td>\n    </tr>\n    <tr>\n      <th>VTI</th>\n      <td>Vanguard Total Stock Market ETF</td>\n      <td>4.78%</td>\n      <td>3.97%</td>\n      <td>7.23%</td>\n      <td>-8.34%</td>\n      <td>8.09%</td>\n      <td>10.69%</td>\n      <td>12.09%</td>\n      <td>02/10/23</td>\n    </tr>\n    <tr>\n      <th>VOO</th>\n      <td>Vanguard S&amp;P 500 ETF</td>\n      <td>4.50%</td>\n      <td>3.89%</td>\n      <td>6.74%</td>\n      <td>-7.73%</td>\n      <td>8.54%</td>\n      <td>11.22%</td>\n      <td>12.52%</td>\n      <td>02/10/23</td>\n    </tr>\n    <tr>\n      <th>QQQ</th>\n      <td>Invesco QQQ Trust</td>\n      <td>9.85%</td>\n      <td>6.25%</td>\n      <td>12.55%</td>\n      <td>-15.77%</td>\n      <td>9.59%</td>\n      <td>14.74%</td>\n      <td>17.07%</td>\n      <td>02/10/23</td>\n    </tr>\n    <tr>\n      <th>...</th>\n      <td>...</td>\n      <td>...</td>\n      <td>...</td>\n      <td>...</td>\n      <td>...</td>\n      <td>...</td>\n      <td>...</td>\n      <td>...</td>\n      <td>...</td>\n    </tr>\n    <tr>\n      <th>CAMX</th>\n      <td>Cambiar Aggressive Value ETF</td>\n      <td>--</td>\n      <td>--</td>\n      <td>--</td>\n      <td>--</td>\n      <td>--</td>\n      <td>--</td>\n      <td>--</td>\n      <td>02/10/23</td>\n    </tr>\n    <tr>\n      <th>CVLC</th>\n      <td>Calvert US Large-Cap Core Responsible Index ETF</td>\n      <td>--</td>\n      <td>--</td>\n      <td>--</td>\n      <td>--</td>\n      <td>--</td>\n      <td>--</td>\n      <td>--</td>\n      <td>02/10/23</td>\n    </tr>\n    <tr>\n      <th>CVMC</th>\n      <td>Calvert US Mid-Cap Core Responsible Index ETF</td>\n      <td>--</td>\n      <td>--</td>\n      <td>--</td>\n      <td>--</td>\n      <td>--</td>\n      <td>--</td>\n      <td>--</td>\n      <td>02/10/23</td>\n    </tr>\n    <tr>\n      <th>CVIE</th>\n      <td>Calvert International Responsible Index ETF</td>\n      <td>--</td>\n      <td>--</td>\n      <td>--</td>\n      <td>--</td>\n      <td>--</td>\n      <td>--</td>\n      <td>--</td>\n      <td>02/10/23</td>\n    </tr>\n    <tr>\n      <th>CDEI</th>\n      <td>Calvert US Large-Cap Diversity, Equity and Inc...</td>\n      <td>--</td>\n      <td>--</td>\n      <td>--</td>\n      <td>--</td>\n      <td>--</td>\n      <td>--</td>\n      <td>--</td>\n      <td>02/10/23</td>\n    </tr>\n  </tbody>\n</table>\n<p>3113 rows × 9 columns</p>\n</div>"
     },
     "metadata": {},
     "output_type": "display_data"
    }
   ],
   "source": [
    "base_de_dados_performance = base_de_dados_performance.set_index(\"Ticker\")\n",
    "display(base_de_dados_performance)"
   ],
   "metadata": {
    "collapsed": false
   }
  },
  {
   "cell_type": "code",
   "execution_count": 16,
   "outputs": [
    {
     "data": {
      "text/plain": "       1 Month   1 Year 5 Years 10 Years\nTicker                                  \nSPY      4.47%   -7.71%  11.19%   12.47%\nIVV      4.49%   -7.72%  11.21%   12.52%\nVTI      4.78%   -8.34%  10.69%   12.09%\nVOO      4.50%   -7.73%  11.22%   12.52%\nQQQ      9.85%  -15.77%  14.74%   17.07%\n...        ...      ...     ...      ...\nCAMX        --       --      --       --\nCVLC        --       --      --       --\nCVMC        --       --      --       --\nCVIE        --       --      --       --\nCDEI        --       --      --       --\n\n[3113 rows x 4 columns]",
      "text/html": "<div>\n<style scoped>\n    .dataframe tbody tr th:only-of-type {\n        vertical-align: middle;\n    }\n\n    .dataframe tbody tr th {\n        vertical-align: top;\n    }\n\n    .dataframe thead th {\n        text-align: right;\n    }\n</style>\n<table border=\"1\" class=\"dataframe\">\n  <thead>\n    <tr style=\"text-align: right;\">\n      <th></th>\n      <th>1 Month</th>\n      <th>1 Year</th>\n      <th>5 Years</th>\n      <th>10 Years</th>\n    </tr>\n    <tr>\n      <th>Ticker</th>\n      <th></th>\n      <th></th>\n      <th></th>\n      <th></th>\n    </tr>\n  </thead>\n  <tbody>\n    <tr>\n      <th>SPY</th>\n      <td>4.47%</td>\n      <td>-7.71%</td>\n      <td>11.19%</td>\n      <td>12.47%</td>\n    </tr>\n    <tr>\n      <th>IVV</th>\n      <td>4.49%</td>\n      <td>-7.72%</td>\n      <td>11.21%</td>\n      <td>12.52%</td>\n    </tr>\n    <tr>\n      <th>VTI</th>\n      <td>4.78%</td>\n      <td>-8.34%</td>\n      <td>10.69%</td>\n      <td>12.09%</td>\n    </tr>\n    <tr>\n      <th>VOO</th>\n      <td>4.50%</td>\n      <td>-7.73%</td>\n      <td>11.22%</td>\n      <td>12.52%</td>\n    </tr>\n    <tr>\n      <th>QQQ</th>\n      <td>9.85%</td>\n      <td>-15.77%</td>\n      <td>14.74%</td>\n      <td>17.07%</td>\n    </tr>\n    <tr>\n      <th>...</th>\n      <td>...</td>\n      <td>...</td>\n      <td>...</td>\n      <td>...</td>\n    </tr>\n    <tr>\n      <th>CAMX</th>\n      <td>--</td>\n      <td>--</td>\n      <td>--</td>\n      <td>--</td>\n    </tr>\n    <tr>\n      <th>CVLC</th>\n      <td>--</td>\n      <td>--</td>\n      <td>--</td>\n      <td>--</td>\n    </tr>\n    <tr>\n      <th>CVMC</th>\n      <td>--</td>\n      <td>--</td>\n      <td>--</td>\n      <td>--</td>\n    </tr>\n    <tr>\n      <th>CVIE</th>\n      <td>--</td>\n      <td>--</td>\n      <td>--</td>\n      <td>--</td>\n    </tr>\n    <tr>\n      <th>CDEI</th>\n      <td>--</td>\n      <td>--</td>\n      <td>--</td>\n      <td>--</td>\n    </tr>\n  </tbody>\n</table>\n<p>3113 rows × 4 columns</p>\n</div>"
     },
     "metadata": {},
     "output_type": "display_data"
    }
   ],
   "source": [
    "# Selecionar colunas de interesse da tabela\n",
    "base_de_dados_performance = base_de_dados_performance[['1 Month',\n",
    "                                                       '1 Year',\n",
    "                                                       '5 Years',\n",
    "                                                       '10 Years'\n",
    "                                                      ]]\n",
    "\n",
    "display(base_de_dados_performance)"
   ],
   "metadata": {
    "collapsed": false
   }
  },
  {
   "cell_type": "code",
   "execution_count": 17,
   "outputs": [],
   "source": [
    "base_de_dados_final = base_de_dados_completa.join(base_de_dados_performance)"
   ],
   "metadata": {
    "collapsed": false
   }
  },
  {
   "cell_type": "code",
   "execution_count": 18,
   "outputs": [
    {
     "data": {
      "text/plain": "                                                     Name  \\\nTicker                                                      \nSPY                                SPDR S&P 500 ETF Trust   \nIVV                              iShares Core S&P 500 ETF   \nVTI                       Vanguard Total Stock Market ETF   \nVOO                                  Vanguard S&P 500 ETF   \nQQQ                                     Invesco QQQ Trust   \n...                                                   ...   \nCAMX                         Cambiar Aggressive Value ETF   \nCVLC      Calvert US Large-Cap Core Responsible Index ETF   \nCVMC        Calvert US Mid-Cap Core Responsible Index ETF   \nCVIE          Calvert International Responsible Index ETF   \nCDEI    Calvert US Large-Cap Diversity, Equity and Inc...   \n\n                                              Segment  \\\nTicker                                                  \nSPY                          Equity: U.S. - Large Cap   \nIVV                          Equity: U.S. - Large Cap   \nVTI                       Equity: U.S. - Total Market   \nVOO                          Equity: U.S. - Large Cap   \nQQQ                          Equity: U.S. - Large Cap   \n...                                               ...   \nCAMX                    Equity: Global - Total Market   \nCVLC                         Equity: U.S. - Large Cap   \nCVMC                           Equity: U.S. - Mid Cap   \nCVIE    Equity: Developed Markets Ex-U.S. - Large Cap   \nCDEI                         Equity: U.S. - Large Cap   \n\n                              Issuer Expense Ratio       AUM 1 Month   1 Year  \\\nTicker                                                                          \nSPY     State Street Global Advisors         0.09%  $376.42B   4.47%   -7.71%   \nIVV                        Blackrock         0.03%  $307.48B   4.49%   -7.72%   \nVTI                         Vanguard         0.03%  $281.55B   4.78%   -8.34%   \nVOO                         Vanguard         0.03%  $279.95B   4.50%   -7.73%   \nQQQ                          Invesco         0.20%  $161.33B   9.85%  -15.77%   \n...                              ...           ...       ...     ...      ...   \nCAMX                             NaN            --        --      --       --   \nCVLC                  Morgan Stanley            --        --      --       --   \nCVMC                  Morgan Stanley         0.15%        --      --       --   \nCVIE                  Morgan Stanley            --        --      --       --   \nCDEI                  Morgan Stanley            --        --      --       --   \n\n       5 Years 10 Years  \nTicker                   \nSPY     11.19%   12.47%  \nIVV     11.21%   12.52%  \nVTI     10.69%   12.09%  \nVOO     11.22%   12.52%  \nQQQ     14.74%   17.07%  \n...        ...      ...  \nCAMX        --       --  \nCVLC        --       --  \nCVMC        --       --  \nCVIE        --       --  \nCDEI        --       --  \n\n[3113 rows x 9 columns]",
      "text/html": "<div>\n<style scoped>\n    .dataframe tbody tr th:only-of-type {\n        vertical-align: middle;\n    }\n\n    .dataframe tbody tr th {\n        vertical-align: top;\n    }\n\n    .dataframe thead th {\n        text-align: right;\n    }\n</style>\n<table border=\"1\" class=\"dataframe\">\n  <thead>\n    <tr style=\"text-align: right;\">\n      <th></th>\n      <th>Name</th>\n      <th>Segment</th>\n      <th>Issuer</th>\n      <th>Expense Ratio</th>\n      <th>AUM</th>\n      <th>1 Month</th>\n      <th>1 Year</th>\n      <th>5 Years</th>\n      <th>10 Years</th>\n    </tr>\n    <tr>\n      <th>Ticker</th>\n      <th></th>\n      <th></th>\n      <th></th>\n      <th></th>\n      <th></th>\n      <th></th>\n      <th></th>\n      <th></th>\n      <th></th>\n    </tr>\n  </thead>\n  <tbody>\n    <tr>\n      <th>SPY</th>\n      <td>SPDR S&amp;P 500 ETF Trust</td>\n      <td>Equity: U.S. - Large Cap</td>\n      <td>State Street Global Advisors</td>\n      <td>0.09%</td>\n      <td>$376.42B</td>\n      <td>4.47%</td>\n      <td>-7.71%</td>\n      <td>11.19%</td>\n      <td>12.47%</td>\n    </tr>\n    <tr>\n      <th>IVV</th>\n      <td>iShares Core S&amp;P 500 ETF</td>\n      <td>Equity: U.S. - Large Cap</td>\n      <td>Blackrock</td>\n      <td>0.03%</td>\n      <td>$307.48B</td>\n      <td>4.49%</td>\n      <td>-7.72%</td>\n      <td>11.21%</td>\n      <td>12.52%</td>\n    </tr>\n    <tr>\n      <th>VTI</th>\n      <td>Vanguard Total Stock Market ETF</td>\n      <td>Equity: U.S. - Total Market</td>\n      <td>Vanguard</td>\n      <td>0.03%</td>\n      <td>$281.55B</td>\n      <td>4.78%</td>\n      <td>-8.34%</td>\n      <td>10.69%</td>\n      <td>12.09%</td>\n    </tr>\n    <tr>\n      <th>VOO</th>\n      <td>Vanguard S&amp;P 500 ETF</td>\n      <td>Equity: U.S. - Large Cap</td>\n      <td>Vanguard</td>\n      <td>0.03%</td>\n      <td>$279.95B</td>\n      <td>4.50%</td>\n      <td>-7.73%</td>\n      <td>11.22%</td>\n      <td>12.52%</td>\n    </tr>\n    <tr>\n      <th>QQQ</th>\n      <td>Invesco QQQ Trust</td>\n      <td>Equity: U.S. - Large Cap</td>\n      <td>Invesco</td>\n      <td>0.20%</td>\n      <td>$161.33B</td>\n      <td>9.85%</td>\n      <td>-15.77%</td>\n      <td>14.74%</td>\n      <td>17.07%</td>\n    </tr>\n    <tr>\n      <th>...</th>\n      <td>...</td>\n      <td>...</td>\n      <td>...</td>\n      <td>...</td>\n      <td>...</td>\n      <td>...</td>\n      <td>...</td>\n      <td>...</td>\n      <td>...</td>\n    </tr>\n    <tr>\n      <th>CAMX</th>\n      <td>Cambiar Aggressive Value ETF</td>\n      <td>Equity: Global - Total Market</td>\n      <td>NaN</td>\n      <td>--</td>\n      <td>--</td>\n      <td>--</td>\n      <td>--</td>\n      <td>--</td>\n      <td>--</td>\n    </tr>\n    <tr>\n      <th>CVLC</th>\n      <td>Calvert US Large-Cap Core Responsible Index ETF</td>\n      <td>Equity: U.S. - Large Cap</td>\n      <td>Morgan Stanley</td>\n      <td>--</td>\n      <td>--</td>\n      <td>--</td>\n      <td>--</td>\n      <td>--</td>\n      <td>--</td>\n    </tr>\n    <tr>\n      <th>CVMC</th>\n      <td>Calvert US Mid-Cap Core Responsible Index ETF</td>\n      <td>Equity: U.S. - Mid Cap</td>\n      <td>Morgan Stanley</td>\n      <td>0.15%</td>\n      <td>--</td>\n      <td>--</td>\n      <td>--</td>\n      <td>--</td>\n      <td>--</td>\n    </tr>\n    <tr>\n      <th>CVIE</th>\n      <td>Calvert International Responsible Index ETF</td>\n      <td>Equity: Developed Markets Ex-U.S. - Large Cap</td>\n      <td>Morgan Stanley</td>\n      <td>--</td>\n      <td>--</td>\n      <td>--</td>\n      <td>--</td>\n      <td>--</td>\n      <td>--</td>\n    </tr>\n    <tr>\n      <th>CDEI</th>\n      <td>Calvert US Large-Cap Diversity, Equity and Inc...</td>\n      <td>Equity: U.S. - Large Cap</td>\n      <td>Morgan Stanley</td>\n      <td>--</td>\n      <td>--</td>\n      <td>--</td>\n      <td>--</td>\n      <td>--</td>\n      <td>--</td>\n    </tr>\n  </tbody>\n</table>\n<p>3113 rows × 9 columns</p>\n</div>"
     },
     "metadata": {},
     "output_type": "display_data"
    }
   ],
   "source": [
    "display(base_de_dados_final)"
   ],
   "metadata": {
    "collapsed": false
   }
  }
 ],
 "metadata": {
  "kernelspec": {
   "display_name": "Python 3",
   "language": "python",
   "name": "python3"
  },
  "language_info": {
   "codemirror_mode": {
    "name": "ipython",
    "version": 2
   },
   "file_extension": ".py",
   "mimetype": "text/x-python",
   "name": "python",
   "nbconvert_exporter": "python",
   "pygments_lexer": "ipython2",
   "version": "2.7.6"
  }
 },
 "nbformat": 4,
 "nbformat_minor": 0
}
